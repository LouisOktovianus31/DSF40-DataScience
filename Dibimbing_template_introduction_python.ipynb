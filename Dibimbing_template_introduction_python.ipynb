{
  "cells": [
    {
      "cell_type": "markdown",
      "id": "39bf7b14",
      "metadata": {
        "id": "39bf7b14"
      },
      "source": [
        "## Buatlah sebuah program yang:\n",
        "\n",
        "   1. Meminta input dari pengguna:\n",
        "\n",
        "       - Nama mahasiswa\n",
        "\n",
        "       - NIM mahasiswa\n",
        "\n",
        "       - Nilai ujian (dalam angka, 0–100)\n",
        "\n",
        "   2. Cek dan tampilkan tipe data dari setiap input.\n",
        "\n",
        "   3. Gunakan if-elif-else untuk menentukan kategori nilai, dengan kriteria sebagai berikut:\n",
        "   \n",
        "```\n",
        "Nilai | Kategori\n",
        "85 - 100 | A (Sangat Baik)\n",
        "75 - 84 | B (Baik)\n",
        "60 - 74 | C (Cukup)\n",
        "40 - 59 | D (Kurang)\n",
        "< 40 | E (Sangat Kurang)\n",
        "```\n",
        "\n",
        "```\n",
        "==== Ekspektasi Output Jawaban : =====\n",
        "Masukkan nama mahasiswa: Sarah\n",
        "Masukkan NIM: 12345678\n",
        "Masukkan nilai ujian (0-100): 81\n",
        "\n",
        "Nama: Sarah (type: <class 'str'>)\n",
        "NIM: 12345678 (type: <class 'str'>)\n",
        "Nilai: 81 (type: <class 'int'>)\n",
        "\n",
        "Hasil Evaluasi:\n",
        "Mahasiswa: Sarah (NIM: 12345678)\n",
        "Nilai Ujian: 81\n",
        "Kategori Nilai: B (Baik)\n",
        "```"
      ]
    },
    {
      "cell_type": "code",
      "execution_count": 1,
      "id": "e2ab644c",
      "metadata": {
        "id": "e2ab644c",
        "colab": {
          "base_uri": "https://localhost:8080/"
        },
        "outputId": "7e00639f-9271-414a-a339-23d2e028a53a"
      },
      "outputs": [
        {
          "output_type": "stream",
          "name": "stdout",
          "text": [
            "Masukkan nama mahasiswa: Sarah\n",
            "Masukkan NIM: 12345678\n",
            "Masukkan nilai ujian (0–100): 81\n",
            "\n",
            "Nama: Sarah (type: <class 'str'>)\n",
            "NIM: 12345678 (type: <class 'str'>)\n",
            "Nilai: 81 (type: <class 'int'>)\n",
            "\n",
            "Hasil Evaluasi:\n",
            "Mahasiswa: Sarah (NIM: 12345678)\n",
            "Nilai Ujian: 81\n",
            "Kategori Nilai: B (Baik)\n"
          ]
        }
      ],
      "source": [
        "# Meminta input dari pengguna\n",
        "nama = input(\"Masukkan nama mahasiswa: \")\n",
        "nim = input(\"Masukkan NIM: \")\n",
        "nilai_input = input(\"Masukkan nilai ujian (0–100): \")\n",
        "\n",
        "# Cek dan tampilkan tipe data dari setiap input\n",
        "print(f\"\\nNama: {nama} (type: {type(nama)})\")\n",
        "print(f\"NIM: {nim} (type: {type(nim)})\")\n",
        "\n",
        "# Pastikan nilai ujian bertipe integer\n",
        "try:\n",
        "    nilai = int(nilai_input)\n",
        "    print(f\"Nilai: {nilai} (type: {type(nilai)})\")\n",
        "\n",
        "    # Menentukan kategori nilai\n",
        "    if 85 <= nilai <= 100:\n",
        "        kategori = \"A (Sangat Baik)\"\n",
        "    elif 75 <= nilai <= 84:\n",
        "        kategori = \"B (Baik)\"\n",
        "    elif 60 <= nilai <= 74:\n",
        "        kategori = \"C (Cukup)\"\n",
        "    elif 40 <= nilai <= 59:\n",
        "        kategori = \"D (Kurang)\"\n",
        "    elif 0 <= nilai < 40:\n",
        "        kategori = \"E (Sangat Kurang)\"\n",
        "    else:\n",
        "        kategori = \"Nilai tidak valid (harus 0–100)\"\n",
        "\n",
        "    # Menampilkan hasil evaluasi\n",
        "    print(\"\\nHasil Evaluasi:\")\n",
        "    print(f\"Mahasiswa: {nama} (NIM: {nim})\")\n",
        "    print(f\"Nilai Ujian: {nilai}\")\n",
        "    print(f\"Kategori Nilai: {kategori}\")\n",
        "\n",
        "except ValueError:\n",
        "    print(\"Nilai ujian harus berupa angka antara 0–100.\")"
      ]
    }
  ],
  "metadata": {
    "kernelspec": {
      "display_name": "Python 3 (ipykernel)",
      "language": "python",
      "name": "python3"
    },
    "language_info": {
      "codemirror_mode": {
        "name": "ipython",
        "version": 3
      },
      "file_extension": ".py",
      "mimetype": "text/x-python",
      "name": "python",
      "nbconvert_exporter": "python",
      "pygments_lexer": "ipython3",
      "version": "3.11.4"
    },
    "colab": {
      "provenance": []
    }
  },
  "nbformat": 4,
  "nbformat_minor": 5
}